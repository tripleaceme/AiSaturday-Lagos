{
 "cells": [
  {
   "cell_type": "code",
   "execution_count": 1,
   "metadata": {},
   "outputs": [],
   "source": [
    "# Adegbite Ayoade Abel, tripleaceme@gmail.com"
   ]
  },
  {
   "cell_type": "markdown",
   "metadata": {},
   "source": [
    "# 2- Write out the datatypes in python with comment"
   ]
  },
  {
   "cell_type": "markdown",
   "metadata": {},
   "source": [
    "### Declaring Integer"
   ]
  },
  {
   "cell_type": "code",
   "execution_count": 6,
   "metadata": {},
   "outputs": [
    {
     "name": "stdout",
     "output_type": "stream",
     "text": [
      "23\n"
     ]
    }
   ],
   "source": [
    "#Declaring age as an integer\n",
    "age = 23\n",
    "print(age)"
   ]
  },
  {
   "cell_type": "markdown",
   "metadata": {},
   "source": [
    "### Declaring Float"
   ]
  },
  {
   "cell_type": "code",
   "execution_count": 7,
   "metadata": {},
   "outputs": [
    {
     "name": "stdout",
     "output_type": "stream",
     "text": [
      "43.6\n"
     ]
    }
   ],
   "source": [
    "# Declaring weight of a fish as a float\n",
    "fish_weight = 43.6\n",
    "print(fish_weight)"
   ]
  },
  {
   "cell_type": "markdown",
   "metadata": {},
   "source": [
    "### Declaring String"
   ]
  },
  {
   "cell_type": "code",
   "execution_count": 10,
   "metadata": {},
   "outputs": [
    {
     "name": "stdout",
     "output_type": "stream",
     "text": [
      "Adegbite Ayoade Abel\n"
     ]
    }
   ],
   "source": [
    "# Decalring Adegbite Ayoade Abel as name\n",
    "name = \"Adegbite Ayoade Abel\"\n",
    "print(name)"
   ]
  },
  {
   "cell_type": "markdown",
   "metadata": {},
   "source": [
    "### Declaring List"
   ]
  },
  {
   "cell_type": "code",
   "execution_count": 13,
   "metadata": {},
   "outputs": [
    {
     "name": "stdout",
     "output_type": "stream",
     "text": [
      "['Nigeria', 'Cameroon', 'Senegal', 'India', 'Paris']\n"
     ]
    }
   ],
   "source": [
    "# Declaring countries as a list\n",
    "countries = [\"Nigeria\",\"Cameroon\",\"Senegal\",\"India\",\"Paris\"]\n",
    "print(countries)"
   ]
  },
  {
   "cell_type": "markdown",
   "metadata": {},
   "source": [
    "### Declaring Tuples"
   ]
  },
  {
   "cell_type": "code",
   "execution_count": 16,
   "metadata": {},
   "outputs": [
    {
     "name": "stdout",
     "output_type": "stream",
     "text": [
      "('CodeLagos', 'Data Science Nigeria', 'AISaturday Lagos', 'WAAW Foundation')\n"
     ]
    }
   ],
   "source": [
    "# Declaring list of bootcamps in Lagos\n",
    "bootcamp_tuples = (\"CodeLagos\",\"Data Science Nigeria\",\"AISaturday Lagos\",\"WAAW Foundation\")\n",
    "print(bootcamp_tuples)"
   ]
  },
  {
   "cell_type": "markdown",
   "metadata": {},
   "source": [
    "# 3- List 6 Keywords in Python"
   ]
  },
  {
   "cell_type": "markdown",
   "metadata": {},
   "source": [
    "#### 1.  print \n",
    "#### 2.  def \n",
    "#### 3.  list\n",
    "#### 4.  str \n",
    "#### 5.  int \n",
    "#### 6.  float \n"
   ]
  }
 ],
 "metadata": {
  "kernelspec": {
   "display_name": "Python 3",
   "language": "python",
   "name": "python3"
  },
  "language_info": {
   "codemirror_mode": {
    "name": "ipython",
    "version": 3
   },
   "file_extension": ".py",
   "mimetype": "text/x-python",
   "name": "python",
   "nbconvert_exporter": "python",
   "pygments_lexer": "ipython3",
   "version": "3.7.0"
  }
 },
 "nbformat": 4,
 "nbformat_minor": 2
}
